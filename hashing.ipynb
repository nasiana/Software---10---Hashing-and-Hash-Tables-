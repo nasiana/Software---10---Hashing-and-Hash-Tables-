{
 "cells": [
  {
   "cell_type": "markdown",
   "metadata": {},
   "source": [
    "# 10. Hashing and Hash"
   ]
  },
  {
   "cell_type": "code",
   "execution_count": 23,
   "metadata": {},
   "outputs": [
    {
     "name": "stdout",
     "output_type": "stream",
     "text": [
      "Hash for 100 is: 100\n",
      "Hash for 100.55 is: 1268213655067525220\n",
      "Hash for CFG is: -1177397237337653488\n",
      "The hash is: 1225235275267052955\n"
     ]
    }
   ],
   "source": [
    "# hash for integer unchanged\n",
    "print('Hash for 100 is:', hash(100))\n",
    "# hash for decimal\n",
    "print('Hash for 100.55 is:', hash(100.55))\n",
    "# hash for string\n",
    "print('Hash for CFG is:', hash('CFG'))\n",
    "# hash for tuple\n",
    "word = ('g', 'i', 'r', 'l', 's')\n",
    "print('The hash is:', hash(word))"
   ]
  },
  {
   "cell_type": "code",
   "execution_count": 38,
   "metadata": {},
   "outputs": [],
   "source": [
    "from pprint import pp\n",
    "class CFGStudent:\n",
    "    def __init__(self, age, name):\n",
    "        self.age = age\n",
    "        self.name = name\n",
    "\n",
    "    def __eq__(self, other: object) -> bool:\n",
    "        return self.age == other.age and self.name == other.name \n",
    "\n",
    "    def __hash__(self) -> int:\n",
    "        tuple = (self.age, self.name)\n",
    "        return hash(tuple)\n",
    "\n",
    "    def __repr__(self):\n",
    "        return self.name\n"
   ]
  },
  {
   "cell_type": "code",
   "execution_count": 39,
   "metadata": {},
   "outputs": [
    {
     "name": "stdout",
     "output_type": "stream",
     "text": [
      "The hash is 3522281891604147762\n",
      "The hash is -9013517838363542597\n",
      "The hash is -9013517838363542597\n",
      "{Nina: 'red', Roshni: 'green'}\n"
     ]
    }
   ],
   "source": [
    "nina = CFGStudent(30, 'Nina')\n",
    "roshni = CFGStudent(30, \"Roshni\")\n",
    "roshni_b = CFGStudent(30, \"Roshni\")\n",
    "\n",
    "print(f\"The hash is {hash(nina)}\")\n",
    "print(f\"The hash is {hash(roshni)}\")\n",
    "print(f\"The hash is {hash(roshni_b)}\")\n",
    "\n",
    "dict = {\n",
    "    nina: \"red\",\n",
    "    roshni: \"blue\",\n",
    "    roshni_b: \"green\"\n",
    "}\n",
    "\n",
    "pp(dict)"
   ]
  },
  {
   "cell_type": "markdown",
   "metadata": {},
   "source": [
    "#### Open Me"
   ]
  },
  {
   "cell_type": "markdown",
   "metadata": {},
   "source": [
    "```\n",
    "If a == b then hash(a) == hash(b)\n",
    "If hash(a) == hash(b), then a might equal b\n",
    "If hash(a) != hash(b), then a != b\n",
    "```"
   ]
  },
  {
   "cell_type": "markdown",
   "metadata": {},
   "source": [
    "When inserting an item:\n",
    "1. Call `__hash__` to compute the hash of the key. \n",
    "2. Store the hash, key and value in an array to location `hash % len(list)`\n",
    "\n",
    "When retrieving an item:\n",
    "1. Call `__hash__` to compute the hash o the key. \n",
    "2. Look in `hash % len(list`) for entry that matches the hash. If found, check for equality by identity, then by calling `__eq__`"
   ]
  }
 ],
 "metadata": {
  "interpreter": {
   "hash": "ab2b989c3d67d87a3969b53c4bc9a795d61114fc5f00df46d9e22a36a30ba665"
  },
  "kernelspec": {
   "display_name": "Python 3.10.0 64-bit",
   "language": "python",
   "name": "python3"
  },
  "language_info": {
   "codemirror_mode": {
    "name": "ipython",
    "version": 3
   },
   "file_extension": ".py",
   "mimetype": "text/x-python",
   "name": "python",
   "nbconvert_exporter": "python",
   "pygments_lexer": "ipython3",
   "version": "3.10.0"
  },
  "orig_nbformat": 4
 },
 "nbformat": 4,
 "nbformat_minor": 2
}
